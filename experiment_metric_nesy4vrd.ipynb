{
 "cells": [
  {
   "cell_type": "code",
   "execution_count": 1,
   "metadata": {},
   "outputs": [],
   "source": [
    "import json, pandas as pd\n",
    "from IPython.display import display, Markdown"
   ]
  },
  {
   "cell_type": "code",
   "execution_count": 7,
   "metadata": {},
   "outputs": [],
   "source": [
    "experiments = {\n",
    "    # \"gpt-3.5-turbo\": json.load(open('experiments/nesy4vrd/gpt-3.5-turbo-train.json', 'r')),\n",
    "    \"gpt-4o-mini-2024-07-18\": json.load(open('experiments/nesy4vrd/gpt-4o-mini-2024-07-18-train.json', 'r')),\n",
    "    \"gpt-4o-2024-05-13\": json.load(open('experiments/nesy4vrd/gpt-4o-2024-05-13-train.json', 'r')),\n",
    "    # \"gpt-4-0125-preview\": json.load(open('experiments/nesy4vrd/gpt-4-0125-preview-train.json', 'r')),\n",
    "    \"mistralai/Mistral-7B-Instruct-v0.3\": json.load(open('experiments/nesy4vrd/Mistral-7B-Instruct-v0.3-train.json', 'r')),\n",
    "    # \"mistralai/Mixtral-8x7B-Instruct-v0.1\": json.load(open('experiments/nesy4vrd/Mixtral-8x7B-Instruct-v0.1-train.json', 'r')),\n",
    "    # \"meta-llama/Meta-Llama-3-70b-Instruct\": json.load(open('experiments/nesy4vrd/Meta-Llama-3-70B-Instruct-train.json', 'r')),\n",
    "    # \"claude-3-opus-20240229\": json.load(open('experiments/nesy4vrd/claude-3-opus-20240229-train.json', 'r')),\n",
    "    # \"claude-3-5-sonnet-20240620\": json.load(open('experiments/nesy4vrd/claude-3-5-sonnet-20240620-train.json', 'r')),\n",
    "    \"claude-3-haiku-20240307\": json.load(open('experiments/nesy4vrd/claude-3-haiku-20240307-train.json', 'r')),\n",
    "}"
   ]
  },
  {
   "cell_type": "code",
   "execution_count": 8,
   "metadata": {},
   "outputs": [],
   "source": [
    "dfs = [ pd.DataFrame.from_records(triples) for triples in [ experiments[model] for model in experiments ] ]\n",
    "df = pd.concat(dfs)"
   ]
  },
  {
   "cell_type": "code",
   "execution_count": 9,
   "metadata": {},
   "outputs": [
    {
     "data": {
      "text/html": [
       "<div>\n",
       "<style scoped>\n",
       "    .dataframe tbody tr th:only-of-type {\n",
       "        vertical-align: middle;\n",
       "    }\n",
       "\n",
       "    .dataframe tbody tr th {\n",
       "        vertical-align: top;\n",
       "    }\n",
       "\n",
       "    .dataframe thead th {\n",
       "        text-align: right;\n",
       "    }\n",
       "</style>\n",
       "<table border=\"1\" class=\"dataframe\">\n",
       "  <thead>\n",
       "    <tr style=\"text-align: right;\">\n",
       "      <th></th>\n",
       "      <th>model</th>\n",
       "      <th>FN</th>\n",
       "      <th>FNR</th>\n",
       "    </tr>\n",
       "  </thead>\n",
       "  <tbody>\n",
       "    <tr>\n",
       "      <th>0</th>\n",
       "      <td>claude-3-haiku-20240307</td>\n",
       "      <td>31</td>\n",
       "      <td>0.31</td>\n",
       "    </tr>\n",
       "    <tr>\n",
       "      <th>1</th>\n",
       "      <td>gpt-4o-2024-05-13</td>\n",
       "      <td>33</td>\n",
       "      <td>0.33</td>\n",
       "    </tr>\n",
       "    <tr>\n",
       "      <th>2</th>\n",
       "      <td>gpt-4o-mini-2024-07-18</td>\n",
       "      <td>66</td>\n",
       "      <td>0.66</td>\n",
       "    </tr>\n",
       "    <tr>\n",
       "      <th>3</th>\n",
       "      <td>mistralai/Mistral-7B-Instruct-v0.3</td>\n",
       "      <td>98</td>\n",
       "      <td>0.98</td>\n",
       "    </tr>\n",
       "  </tbody>\n",
       "</table>\n",
       "</div>"
      ],
      "text/plain": [
       "                                model  FN   FNR\n",
       "0             claude-3-haiku-20240307  31  0.31\n",
       "1                   gpt-4o-2024-05-13  33  0.33\n",
       "2              gpt-4o-mini-2024-07-18  66  0.66\n",
       "3  mistralai/Mistral-7B-Instruct-v0.3  98  0.98"
      ]
     },
     "execution_count": 9,
     "metadata": {},
     "output_type": "execute_result"
    }
   ],
   "source": [
    "# Convert 'predicted' column from string to integer, replacing errors with NaN\n",
    "df['answer'] = pd.to_numeric(df['answer'], errors='coerce')\n",
    "\n",
    "# Drop any rows where 'predicted' is now NaN\n",
    "df = df.dropna(subset=['answer'])\n",
    "\n",
    "# Convert 'predicted' to integer type\n",
    "df['answer'] = df['answer'].astype(int)\n",
    "\n",
    "# Now perform the groupby and sum operation\n",
    "result = df.groupby('model')['answer'].sum().reset_index()\n",
    "\n",
    "# Calculate 'N'\n",
    "result['FN'] = len(dfs[0]) - result['answer']\n",
    "\n",
    "# Calculate false negative rate (FNR)\n",
    "result[\"FNR\"] = (len(dfs[0]) - result[\"answer\"]) / len(dfs[0])\n",
    "\n",
    "# Display result\n",
    "result[['model', 'FN', 'FNR']].sort_values('FNR', ascending=True)"
   ]
  },
  {
   "cell_type": "code",
   "execution_count": 11,
   "metadata": {},
   "outputs": [
    {
     "data": {
      "text/html": [
       "<div>\n",
       "<style scoped>\n",
       "    .dataframe tbody tr th:only-of-type {\n",
       "        vertical-align: middle;\n",
       "    }\n",
       "\n",
       "    .dataframe tbody tr th {\n",
       "        vertical-align: top;\n",
       "    }\n",
       "\n",
       "    .dataframe thead th {\n",
       "        text-align: right;\n",
       "    }\n",
       "</style>\n",
       "<table border=\"1\" class=\"dataframe\">\n",
       "  <thead>\n",
       "    <tr style=\"text-align: right;\">\n",
       "      <th></th>\n",
       "      <th>p</th>\n",
       "      <th>s</th>\n",
       "      <th>o</th>\n",
       "      <th>model</th>\n",
       "      <th>rationale</th>\n",
       "      <th>answer</th>\n",
       "    </tr>\n",
       "  </thead>\n",
       "  <tbody>\n",
       "    <tr>\n",
       "      <th>0</th>\n",
       "      <td>owl:sameAs</td>\n",
       "      <td>3</td>\n",
       "      <td>3</td>\n",
       "      <td>3</td>\n",
       "      <td>3</td>\n",
       "      <td>3</td>\n",
       "    </tr>\n",
       "    <tr>\n",
       "      <th>1</th>\n",
       "      <td>rdfs:domain</td>\n",
       "      <td>29</td>\n",
       "      <td>29</td>\n",
       "      <td>29</td>\n",
       "      <td>29</td>\n",
       "      <td>29</td>\n",
       "    </tr>\n",
       "    <tr>\n",
       "      <th>2</th>\n",
       "      <td>rdfs:range</td>\n",
       "      <td>1</td>\n",
       "      <td>1</td>\n",
       "      <td>1</td>\n",
       "      <td>1</td>\n",
       "      <td>1</td>\n",
       "    </tr>\n",
       "    <tr>\n",
       "      <th>3</th>\n",
       "      <td>rdfs:subClassOf</td>\n",
       "      <td>28</td>\n",
       "      <td>28</td>\n",
       "      <td>28</td>\n",
       "      <td>28</td>\n",
       "      <td>28</td>\n",
       "    </tr>\n",
       "  </tbody>\n",
       "</table>\n",
       "</div>"
      ],
      "text/plain": [
       "                 p   s   o  model  rationale  answer\n",
       "0       owl:sameAs   3   3      3          3       3\n",
       "1      rdfs:domain  29  29     29         29      29\n",
       "2       rdfs:range   1   1      1          1       1\n",
       "3  rdfs:subClassOf  28  28     28         28      28"
      ]
     },
     "execution_count": 11,
     "metadata": {},
     "output_type": "execute_result"
    }
   ],
   "source": [
    "breakdown_by_property = df[(df['answer'] == 0)].groupby('p').count().reset_index()\n",
    "breakdown_by_property"
   ]
  },
  {
   "cell_type": "code",
   "execution_count": 6,
   "metadata": {},
   "outputs": [
    {
     "ename": "KeyError",
     "evalue": "'claude-3-haiku-20240307'",
     "output_type": "error",
     "traceback": [
      "\u001b[0;31m---------------------------------------------------------------------------\u001b[0m",
      "\u001b[0;31mKeyError\u001b[0m                                  Traceback (most recent call last)",
      "Cell \u001b[0;32mIn[6], line 1\u001b[0m\n\u001b[0;32m----> 1\u001b[0m fns \u001b[38;5;241m=\u001b[39m [ classification \u001b[38;5;28;01mfor\u001b[39;00m classification \u001b[38;5;129;01min\u001b[39;00m \u001b[43mexperiments\u001b[49m\u001b[43m[\u001b[49m\u001b[38;5;124;43m'\u001b[39;49m\u001b[38;5;124;43mclaude-3-haiku-20240307\u001b[39;49m\u001b[38;5;124;43m'\u001b[39;49m\u001b[43m]\u001b[49m \u001b[38;5;28;01mif\u001b[39;00m classification[\u001b[38;5;124m'\u001b[39m\u001b[38;5;124manswer\u001b[39m\u001b[38;5;124m'\u001b[39m] \u001b[38;5;241m==\u001b[39m \u001b[38;5;124m'\u001b[39m\u001b[38;5;124m0\u001b[39m\u001b[38;5;124m'\u001b[39m ]\n",
      "\u001b[0;31mKeyError\u001b[0m: 'claude-3-haiku-20240307'"
     ]
    }
   ],
   "source": [
    "fns = [ classification for classification in experiments['claude-3-haiku-20240307'] if classification['answer'] == '0' ]"
   ]
  },
  {
   "cell_type": "code",
   "execution_count": null,
   "metadata": {},
   "outputs": [],
   "source": [
    "for fn in fns:\n",
    "    fn.pop('answer')"
   ]
  },
  {
   "cell_type": "code",
   "execution_count": null,
   "metadata": {},
   "outputs": [],
   "source": [
    "json.dump(fns, open('experiments/nesy4vrd/claude-3-haiku-20240307-fns.json', 'w+'))"
   ]
  },
  {
   "cell_type": "code",
   "execution_count": null,
   "metadata": {},
   "outputs": [],
   "source": [
    "for model in experiments:\n",
    "    display(Markdown(f'## Model: {model}'))\n",
    "    df2 = pd.DataFrame.from_records(experiments[model])[['s', 'p', 'o', 'answer', 'rationale']].sort_values('s')\n",
    "    df2[\"rationale\"] = df2[\"rationale\"].apply(lambda x: x.replace('>', '&gt').replace('<', '&lt').replace('**', ''))\n",
    "    fns_styler = df2.style.set_properties(**{\"text-align\": \"left\", \"vertical-align\" : \"top\", \"overflow-wrap\": \"break-word\"}).hide(axis=\"index\")\n",
    "    display(fns_styler)"
   ]
  },
  {
   "cell_type": "code",
   "execution_count": null,
   "metadata": {},
   "outputs": [],
   "source": []
  }
 ],
 "metadata": {
  "kernelspec": {
   "display_name": "env",
   "language": "python",
   "name": "python3"
  },
  "language_info": {
   "codemirror_mode": {
    "name": "ipython",
    "version": 3
   },
   "file_extension": ".py",
   "mimetype": "text/x-python",
   "name": "python",
   "nbconvert_exporter": "python",
   "pygments_lexer": "ipython3",
   "version": "3.11.4"
  }
 },
 "nbformat": 4,
 "nbformat_minor": 2
}
