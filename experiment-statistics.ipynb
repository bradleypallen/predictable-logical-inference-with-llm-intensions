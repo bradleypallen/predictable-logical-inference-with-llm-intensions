{
 "cells": [
  {
   "cell_type": "code",
   "execution_count": 1,
   "metadata": {},
   "outputs": [],
   "source": [
    "import json, pandas as pd\n",
    "from IPython.display import display, Markdown"
   ]
  },
  {
   "cell_type": "code",
   "execution_count": 2,
   "metadata": {},
   "outputs": [],
   "source": [
    "experiments = {\n",
    "    \"gpt-3.5-turbo\": json.load(open('experiments/gpt-3.5-turbo-owl-inf.json', 'r')),\n",
    "    \"gpt-4o-2024-05-13\": json.load(open('experiments/gpt-4o-2024-05-13-owl-inf.json', 'r')),\n",
    "    \"gpt-4-0125-preview\": json.load(open('experiments/gpt-4-0125-preview-owl-inf.json', 'r')),\n",
    "    \"mistralai/Mistral-7B-Instruct-v0.3\": json.load(open('experiments/Mistral-7B-Instruct-v0.3-owl-inf.json', 'r')),\n",
    "    \"mistralai/Mixtral-8x7B-Instruct-v0.1\": json.load(open('experiments/Mixtral-8x7B-Instruct-v0.1-owl-inf.json', 'r')),\n",
    "    \"meta-llama/Meta-Llama-3-70b-Instruct\": json.load(open('experiments/Meta-Llama-3-70B-Instruct-owl-inf.json', 'r')),\n",
    "    \"claude-3-opus-20240229\": json.load(open('experiments/claude-3-opus-20240229-owl-inf.json', 'r')),\n",
    "    \"claude-3-5-sonnet-20240620\": json.load(open('experiments/claude-3-5-sonnet-20240620-owl-inf.json', 'r')),\n",
    "    \"claude-3-haiku-20240307\": json.load(open('experiments/claude-3-haiku-20240307-owl-inf.json', 'r')),\n",
    "}"
   ]
  },
  {
   "cell_type": "code",
   "execution_count": 3,
   "metadata": {},
   "outputs": [],
   "source": [
    "dfs = [ pd.DataFrame.from_records(triples) for triples in [ experiments[model] for model in experiments ] ]\n",
    "df = pd.concat(dfs)"
   ]
  },
  {
   "cell_type": "code",
   "execution_count": 4,
   "metadata": {},
   "outputs": [
    {
     "data": {
      "text/html": [
       "<div>\n",
       "<style scoped>\n",
       "    .dataframe tbody tr th:only-of-type {\n",
       "        vertical-align: middle;\n",
       "    }\n",
       "\n",
       "    .dataframe tbody tr th {\n",
       "        vertical-align: top;\n",
       "    }\n",
       "\n",
       "    .dataframe thead th {\n",
       "        text-align: right;\n",
       "    }\n",
       "</style>\n",
       "<table border=\"1\" class=\"dataframe\">\n",
       "  <thead>\n",
       "    <tr style=\"text-align: right;\">\n",
       "      <th></th>\n",
       "      <th>model</th>\n",
       "      <th>FN</th>\n",
       "      <th>FNR</th>\n",
       "    </tr>\n",
       "  </thead>\n",
       "  <tbody>\n",
       "    <tr>\n",
       "      <th>0</th>\n",
       "      <td>claude-3-5-sonnet-20240620</td>\n",
       "      <td>0</td>\n",
       "      <td>0.000</td>\n",
       "    </tr>\n",
       "    <tr>\n",
       "      <th>1</th>\n",
       "      <td>claude-3-haiku-20240307</td>\n",
       "      <td>0</td>\n",
       "      <td>0.000</td>\n",
       "    </tr>\n",
       "    <tr>\n",
       "      <th>4</th>\n",
       "      <td>gpt-4-0125-preview</td>\n",
       "      <td>0</td>\n",
       "      <td>0.000</td>\n",
       "    </tr>\n",
       "    <tr>\n",
       "      <th>5</th>\n",
       "      <td>gpt-4o-2024-05-13</td>\n",
       "      <td>0</td>\n",
       "      <td>0.000</td>\n",
       "    </tr>\n",
       "    <tr>\n",
       "      <th>6</th>\n",
       "      <td>meta-llama/Meta-Llama-3-70B-Instruct</td>\n",
       "      <td>0</td>\n",
       "      <td>0.000</td>\n",
       "    </tr>\n",
       "    <tr>\n",
       "      <th>2</th>\n",
       "      <td>claude-3-opus-20240229</td>\n",
       "      <td>1</td>\n",
       "      <td>0.125</td>\n",
       "    </tr>\n",
       "    <tr>\n",
       "      <th>3</th>\n",
       "      <td>gpt-3.5-turbo</td>\n",
       "      <td>3</td>\n",
       "      <td>0.375</td>\n",
       "    </tr>\n",
       "    <tr>\n",
       "      <th>8</th>\n",
       "      <td>mistralai/Mixtral-8x7B-Instruct-v0.1</td>\n",
       "      <td>3</td>\n",
       "      <td>0.375</td>\n",
       "    </tr>\n",
       "    <tr>\n",
       "      <th>7</th>\n",
       "      <td>mistralai/Mistral-7B-Instruct-v0.3</td>\n",
       "      <td>4</td>\n",
       "      <td>0.500</td>\n",
       "    </tr>\n",
       "  </tbody>\n",
       "</table>\n",
       "</div>"
      ],
      "text/plain": [
       "                                  model  FN    FNR\n",
       "0            claude-3-5-sonnet-20240620   0  0.000\n",
       "1               claude-3-haiku-20240307   0  0.000\n",
       "4                    gpt-4-0125-preview   0  0.000\n",
       "5                     gpt-4o-2024-05-13   0  0.000\n",
       "6  meta-llama/Meta-Llama-3-70B-Instruct   0  0.000\n",
       "2                claude-3-opus-20240229   1  0.125\n",
       "3                         gpt-3.5-turbo   3  0.375\n",
       "8  mistralai/Mixtral-8x7B-Instruct-v0.1   3  0.375\n",
       "7    mistralai/Mistral-7B-Instruct-v0.3   4  0.500"
      ]
     },
     "execution_count": 4,
     "metadata": {},
     "output_type": "execute_result"
    }
   ],
   "source": [
    "# Convert 'predicted' column from string to integer, replacing errors with NaN\n",
    "df['answer'] = pd.to_numeric(df['answer'], errors='coerce')\n",
    "\n",
    "# Drop any rows where 'predicted' is now NaN\n",
    "df = df.dropna(subset=['answer'])\n",
    "\n",
    "# Convert 'predicted' to integer type\n",
    "df['answer'] = df['answer'].astype(int)\n",
    "\n",
    "# Now perform the groupby and sum operation\n",
    "result = df.groupby('model')['answer'].sum().reset_index()\n",
    "\n",
    "# Calculate 'N'\n",
    "result['FN'] = len(dfs[0]) - result['answer']\n",
    "\n",
    "# Calculate false negative rate (FNR)\n",
    "result[\"FNR\"] = (len(dfs[0]) - result[\"answer\"]) / len(dfs[0])\n",
    "\n",
    "# Display result\n",
    "result[['model', 'FN', 'FNR']].sort_values('FNR', ascending=True)"
   ]
  }
 ],
 "metadata": {
  "kernelspec": {
   "display_name": "env",
   "language": "python",
   "name": "python3"
  },
  "language_info": {
   "codemirror_mode": {
    "name": "ipython",
    "version": 3
   },
   "file_extension": ".py",
   "mimetype": "text/x-python",
   "name": "python",
   "nbconvert_exporter": "python",
   "pygments_lexer": "ipython3",
   "version": "3.11.4"
  }
 },
 "nbformat": 4,
 "nbformat_minor": 2
}
