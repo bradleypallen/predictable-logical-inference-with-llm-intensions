{
 "cells": [
  {
   "cell_type": "code",
   "execution_count": 1,
   "metadata": {},
   "outputs": [],
   "source": [
    "from rdflib import Graph, Namespace, URIRef, Literal, BNode\n",
    "from rdflib.namespace import RDF, RDFS, OWL\n",
    "from owlrl import DeductiveClosure, OWLRL_Semantics\n",
    "from intension import Intension\n",
    "from fn_example_generator import FNExampleGenerator\n",
    "from tqdm import tqdm\n",
    "import json, os, random"
   ]
  },
  {
   "cell_type": "code",
   "execution_count": 2,
   "metadata": {},
   "outputs": [],
   "source": [
    "# Get Turtle serialization of vrd_world_v1.owl\n",
    "VRD_WORLD_OWL = open(\"data/NeSy4VRD/nesy4vrd_ontology/vrd_world_v1.owl\", \"r\").read()"
   ]
  },
  {
   "cell_type": "code",
   "execution_count": 3,
   "metadata": {},
   "outputs": [],
   "source": [
    "training_results = json.load(open('experiments/nesy4vrd/claude-3-haiku-20240307-train.json', 'r'))"
   ]
  },
  {
   "cell_type": "code",
   "execution_count": 4,
   "metadata": {},
   "outputs": [],
   "source": [
    "fns = [ result for result in training_results if result['answer'] == '0' ]"
   ]
  },
  {
   "cell_type": "code",
   "execution_count": 5,
   "metadata": {},
   "outputs": [
    {
     "data": {
      "text/plain": [
       "29"
      ]
     },
     "execution_count": 5,
     "metadata": {},
     "output_type": "execute_result"
    }
   ],
   "source": [
    "len(fns)"
   ]
  },
  {
   "cell_type": "code",
   "execution_count": 6,
   "metadata": {},
   "outputs": [],
   "source": [
    "for result in fns:\n",
    "    result['graph'] = VRD_WORLD_OWL"
   ]
  },
  {
   "cell_type": "code",
   "execution_count": 7,
   "metadata": {},
   "outputs": [
    {
     "name": "stderr",
     "output_type": "stream",
     "text": [
      "/Users/bradleyallen/Documents/GitHub/predictable-logical-inference-with-llm-intensions/env/lib/python3.11/site-packages/langchain_core/_api/deprecation.py:139: LangChainDeprecationWarning: The class `LLMChain` was deprecated in LangChain 0.1.17 and will be removed in 1.0. Use RunnableSequence, e.g., `prompt | llm` instead.\n",
      "  warn_deprecated(\n"
     ]
    }
   ],
   "source": [
    "generator = FNExampleGenerator(\"claude-3-haiku-20240307\")"
   ]
  },
  {
   "cell_type": "code",
   "execution_count": 12,
   "metadata": {},
   "outputs": [
    {
     "name": "stderr",
     "output_type": "stream",
     "text": [
      "100%|██████████| 29/29 [01:36<00:00,  3.32s/it]\n"
     ]
    }
   ],
   "source": [
    "revisions = [ generator.chain.invoke(fn) for fn in tqdm(fns) ]"
   ]
  },
  {
   "cell_type": "code",
   "execution_count": 14,
   "metadata": {},
   "outputs": [],
   "source": [
    "for revision in revisions:\n",
    "    revision['answer'] = '1'\n",
    "    revision['rationale'] = revision['text']['revision']\n",
    "    revision.pop('text')\n",
    "    revision.pop('model')\n",
    "    revision.pop('graph')"
   ]
  },
  {
   "cell_type": "code",
   "execution_count": 16,
   "metadata": {},
   "outputs": [
    {
     "data": {
      "text/plain": [
       "{'s': 'vrd:skateOn',\n",
       " 'p': 'rdfs:domain',\n",
       " 'o': 'vrd:PullCapableThing',\n",
       " 'rationale': 'The given knowledge graph triple is true based on the ontology information provided.\\n\\nThe ontology states that the property \\'vrd:skateOn\\' has the following definition:\\n\\nvrd:skateOn rdf:type owl:ObjectProperty ;\\n            rdfs:subPropertyOf vrd:on ;\\n            rdfs:domain vrd:Person ;\\n            rdfs:range vrd:SkateboardingRelatedThing ;\\n            rdfs:comment \"Property \\'skateOn\\' has a consistent meaning/usage relating to skateboarding.\"@en .\\n\\nThis indicates that the domain of the \\'vrd:skateOn\\' property is the class \\'vrd:Person\\'. The ontology also defines the class \\'vrd:PullCapableThing\\' as:\\n\\nvrd:PullCapableThing rdf:type owl:Class ;\\n                     owl:equivalentClass [ rdf:type owl:Class ;\\n                                           owl:unionOf ( vrd:Horse\\n                                                         vrd:Person\\n                                                         vrd:TrainEngine\\n                                                         vrd:Truck\\n                                                       )\\n                                         ] ;\\n                     rdfs:subClassOf vrd:MixedEnvironmentThing ;\\n                     rdfs:comment \"Something that is capable of pulling something. Something that can be said to \\'pull\\' something else. Defined to serve as a domain restriction for object property \\'pull\\'.\"@en .\\n\\nSince \\'vrd:Person\\' is a subclass of \\'vrd:PullCapableThing\\', the triple stating that the domain of \\'vrd:skateOn\\' is \\'vrd:PullCapableThing\\' is true according to the ontology.',\n",
       " 'answer': '1'}"
      ]
     },
     "execution_count": 16,
     "metadata": {},
     "output_type": "execute_result"
    }
   ],
   "source": [
    "revisions[0]"
   ]
  },
  {
   "cell_type": "code",
   "execution_count": 22,
   "metadata": {},
   "outputs": [],
   "source": [
    "def exemplar_str(ex):\n",
    "    return f\"\"\"###\n",
    "Subject: <{ex[\"s\"]}>\n",
    "Predicate: <{ex[\"p\"]}>\n",
    "Object: <{ex[\"o\"]}>\n",
    "Rationale: {ex[\"rationale\"]}\n",
    "Answer: {ex[\"answer\"]}\n",
    "\"\"\""
   ]
  },
  {
   "cell_type": "code",
   "execution_count": 24,
   "metadata": {},
   "outputs": [
    {
     "name": "stdout",
     "output_type": "stream",
     "text": [
      "###\n",
      "Subject: <vrd:skateOn>\n",
      "Predicate: <rdfs:domain>\n",
      "Object: <vrd:PullCapableThing>\n",
      "Rationale: The given knowledge graph triple is true based on the ontology information provided.\n",
      "\n",
      "The ontology states that the property 'vrd:skateOn' has the following definition:\n",
      "\n",
      "vrd:skateOn rdf:type owl:ObjectProperty ;\n",
      "            rdfs:subPropertyOf vrd:on ;\n",
      "            rdfs:domain vrd:Person ;\n",
      "            rdfs:range vrd:SkateboardingRelatedThing ;\n",
      "            rdfs:comment \"Property 'skateOn' has a consistent meaning/usage relating to skateboarding.\"@en .\n",
      "\n",
      "This indicates that the domain of the 'vrd:skateOn' property is the class 'vrd:Person'. The ontology also defines the class 'vrd:PullCapableThing' as:\n",
      "\n",
      "vrd:PullCapableThing rdf:type owl:Class ;\n",
      "                     owl:equivalentClass [ rdf:type owl:Class ;\n",
      "                                           owl:unionOf ( vrd:Horse\n",
      "                                                         vrd:Person\n",
      "                                                         vrd:TrainEngine\n",
      "                                                         vrd:Truck\n",
      "                                                       )\n",
      "                                         ] ;\n",
      "                     rdfs:subClassOf vrd:MixedEnvironmentThing ;\n",
      "                     rdfs:comment \"Something that is capable of pulling something. Something that can be said to 'pull' something else. Defined to serve as a domain restriction for object property 'pull'.\"@en .\n",
      "\n",
      "Since 'vrd:Person' is a subclass of 'vrd:PullCapableThing', the triple stating that the domain of 'vrd:skateOn' is 'vrd:PullCapableThing' is true according to the ontology.\n",
      "Answer: 1\n",
      "\n"
     ]
    }
   ],
   "source": [
    "print(exemplar_str(revisions[0]))"
   ]
  },
  {
   "cell_type": "code",
   "execution_count": 25,
   "metadata": {},
   "outputs": [],
   "source": [
    "exemplars = \"\".join([ exemplar_str(ex) for ex in revisions ])"
   ]
  },
  {
   "cell_type": "code",
   "execution_count": 30,
   "metadata": {},
   "outputs": [],
   "source": [
    "print(exemplars, file=open('examples.json', 'w+'))"
   ]
  },
  {
   "cell_type": "code",
   "execution_count": 29,
   "metadata": {},
   "outputs": [],
   "source": [
    "json.dump(exemplars, open(\"examples.json\", \"w+\"))"
   ]
  },
  {
   "cell_type": "code",
   "execution_count": null,
   "metadata": {},
   "outputs": [],
   "source": []
  }
 ],
 "metadata": {
  "kernelspec": {
   "display_name": "env",
   "language": "python",
   "name": "python3"
  },
  "language_info": {
   "codemirror_mode": {
    "name": "ipython",
    "version": 3
   },
   "file_extension": ".py",
   "mimetype": "text/x-python",
   "name": "python",
   "nbconvert_exporter": "python",
   "pygments_lexer": "ipython3",
   "version": "3.11.4"
  }
 },
 "nbformat": 4,
 "nbformat_minor": 2
}
