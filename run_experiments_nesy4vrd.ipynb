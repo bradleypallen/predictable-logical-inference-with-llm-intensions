{
 "cells": [
  {
   "cell_type": "code",
   "execution_count": 1,
   "metadata": {},
   "outputs": [],
   "source": [
    "from rdflib import Graph, Namespace, URIRef\n",
    "from rdflib.namespace import RDF, RDFS, OWL\n",
    "from owlrl import DeductiveClosure, OWLRL_Semantics\n",
    "from intension import Intension\n",
    "from tqdm import tqdm\n",
    "import pandas as pd\n",
    "import json, os, random"
   ]
  },
  {
   "cell_type": "code",
   "execution_count": 16,
   "metadata": {},
   "outputs": [],
   "source": [
    "MODELS = [ \n",
    "    # { \"model_name\": \"gpt-3.5-turbo\", \"batch_size\": 50 },\n",
    "    { \"model_name\": \"gpt-4o-2024-05-13\", \"batch_size\": 50 },\n",
    "    { \"model_name\": \"gpt-4-0125-preview\", \"batch_size\": 50 },\n",
    "    { \"model_name\": \"mistralai/Mistral-7B-Instruct-v0.3\", \"batch_size\": 50 },\n",
    "    { \"model_name\": \"claude-3-5-sonnet-20240620\", \"batch_size\": 1 },\n",
    "    { \"model_name\": \"mistralai/Mixtral-8x7B-Instruct-v0.1\", \"batch_size\": 50 },\n",
    "    { \"model_name\": \"claude-3-opus-20240229\", \"batch_size\": 1 },\n",
    "    # { \"model_name\": \"meta-llama/Meta-Llama-3-70B-Instruct\", \"batch_size\": 50 },\n",
    "    { \"model_name\": \"claude-3-haiku-20240307\", \"batch_size\": 1 },\n",
    "]"
   ]
  },
  {
   "cell_type": "code",
   "execution_count": 3,
   "metadata": {},
   "outputs": [],
   "source": [
    "TEST_TRIPLES_SAMPLE_SIZE = 10"
   ]
  },
  {
   "cell_type": "code",
   "execution_count": 8,
   "metadata": {},
   "outputs": [
    {
     "name": "stdout",
     "output_type": "stream",
     "text": [
      "<http://www.w3.org/2001/XMLSchema#positiveInteger>, <http://www.w3.org/2002/07/owl#sameAs>, <http://www.w3.org/2001/XMLSchema#positiveInteger>\n",
      "<http://www.semanticweb.org/nesy4vrd/ontologies/vrd_world#Bus>, <http://www.w3.org/2000/01/rdf-schema#subClassOf>, <http://www.semanticweb.org/nesy4vrd/ontologies/vrd_world#VRDWorldThing>\n",
      "<http://www.w3.org/2002/07/owl#Nothing>, <http://www.w3.org/2000/01/rdf-schema#subClassOf>, <http://www.semanticweb.org/nesy4vrd/ontologies/vrd_world#FlyableThing>\n",
      "<http://www.semanticweb.org/nesy4vrd/ontologies/vrd_world#carry>, <http://www.w3.org/2000/01/rdf-schema#domain>, <nf28ef2ac4d834d6e80f82fa5f3eec9c2b13>\n",
      "<http://www.semanticweb.org/nesy4vrd/ontologies/vrd_world#walk>, <http://www.w3.org/2000/01/rdf-schema#domain>, <http://www.semanticweb.org/nesy4vrd/ontologies/vrd_world#MotionCapableThing>\n",
      "<http://www.semanticweb.org/nesy4vrd/ontologies/vrd_world#standUnder>, <http://www.w3.org/2000/01/rdf-schema#domain>, <http://www.w3.org/2002/07/owl#Thing>\n",
      "<http://www.semanticweb.org/nesy4vrd/ontologies/vrd_world#FootClothing>, <http://www.w3.org/2000/01/rdf-schema#subClassOf>, <http://www.semanticweb.org/nesy4vrd/ontologies/vrd_world#FootClothing>\n",
      "<http://www.semanticweb.org/nesy4vrd/ontologies/vrd_world#OutsideOfCapableThing>, <http://www.w3.org/2000/01/rdf-schema#subClassOf>, <http://www.semanticweb.org/nesy4vrd/ontologies/vrd_world#VRDWorldThing>\n",
      "<http://www.semanticweb.org/nesy4vrd/ontologies/vrd_world#Engine>, <http://www.w3.org/2000/01/rdf-schema#subClassOf>, <http://www.semanticweb.org/nesy4vrd/ontologies/vrd_world#VehiclePart>\n",
      "<http://www.w3.org/2002/07/owl#Nothing>, <http://www.w3.org/2000/01/rdf-schema#subClassOf>, <http://www.semanticweb.org/nesy4vrd/ontologies/vrd_world#Proboscidea>\n"
     ]
    }
   ],
   "source": [
    "# Define vrd: namespace\n",
    "VRD = Namespace(\"http://www.semanticweb.org/nesy4vrd/ontologies/vrd_world#\")\n",
    "\n",
    "# Get Turtle serialization of vrd_world_v1.owl\n",
    "VRD_WORLD_OWL = open(\"NeSy4VRD/nesy4vrd_ontology/vrd_world_v1.owl\", \"r\").read()\n",
    "\n",
    "# Create a new graph\n",
    "graph = Graph()\n",
    "graph.bind(\"vrd\", VRD)\n",
    "graph.bind(\"rdf\", RDF)\n",
    "graph.bind(\"rdfs\", RDFS)\n",
    "graph.bind(\"owl\", OWL)\n",
    "graph.parse(\"NeSy4VRD/nesy4vrd_ontology/vrd_world_v1.owl\", format='turtle')\n",
    "\n",
    "# Create another graph to store deductive closure\n",
    "closure = Graph()\n",
    "graph.bind(\"vrd\", VRD)\n",
    "closure.bind(\"rdf\", RDF)\n",
    "closure.bind(\"rdfs\", RDFS)\n",
    "closure.bind(\"owl\", OWL)\n",
    "closure += graph\n",
    "DeductiveClosure(OWLRL_Semantics).expand(closure)\n",
    "\n",
    "# Create a graph to store set difference between closure and graph (i.e. the inferred triples)\n",
    "inferred = Graph()\n",
    "graph.bind(\"vrd\", VRD)\n",
    "inferred.bind(\"rdf\", RDF)\n",
    "inferred.bind(\"rdfs\", RDFS)\n",
    "inferred.bind(\"owl\", OWL)\n",
    "inferred += (closure - graph)\n",
    "\n",
    "# Sample from the set of inferred triples\n",
    "inferred_triples = list(inferred)\n",
    "if TEST_TRIPLES_SAMPLE_SIZE < len(inferred_triples):\n",
    "    inferred_triples = random.sample(inferred_triples, TEST_TRIPLES_SAMPLE_SIZE)\n",
    "\n",
    "# Create a graph to store the sample\n",
    "test = Graph()\n",
    "test.bind(\"vrd\", VRD)\n",
    "test.bind(\"rdf\", RDF)\n",
    "test.bind(\"rdfs\", RDFS)\n",
    "test.bind(\"owl\", OWL)\n",
    "for triple in inferred_triples:\n",
    "    test.add(triple)\n",
    "\n",
    "# Print test triples\n",
    "for s, p, o in test.triples((None, None, None)):\n",
    "    print(f'<{s}>, <{p}>, <{o}>')\n"
   ]
  },
  {
   "cell_type": "code",
   "execution_count": 11,
   "metadata": {},
   "outputs": [],
   "source": [
    "queries = [ { \"s\": str(s), \"p\": str(p), \"o\": str(o), \"graph\": VRD_WORLD_OWL } for s, p, o in test.triples((None, None, None)) ]"
   ]
  },
  {
   "cell_type": "code",
   "execution_count": 17,
   "metadata": {},
   "outputs": [
    {
     "name": "stdout",
     "output_type": "stream",
     "text": [
      "gpt-4o-2024-05-13                   : EXISTS\n",
      "gpt-4-0125-preview                  : EXISTS\n",
      "mistralai/Mistral-7B-Instruct-v0.3  : EXISTS\n",
      "claude-3-5-sonnet-20240620          : EXISTS\n",
      "mistralai/Mixtral-8x7B-Instruct-v0.1: EXISTS\n",
      "claude-3-opus-20240229              : EXISTS\n"
     ]
    },
    {
     "name": "stderr",
     "output_type": "stream",
     "text": [
      "claude-3-haiku-20240307             : 100%|██████████| 10/10 [00:30<00:00,  3.08s/it]\n"
     ]
    }
   ],
   "source": [
    "for model in MODELS:\n",
    "    filename = f'experiments/nesy4vrd/{model[\"model_name\"].split(\"/\")[-1]}-owl-inf.json'\n",
    "    if os.path.isfile(filename):\n",
    "        print(f'{model[\"model_name\"]:36}: EXISTS')\n",
    "    else:\n",
    "        results = []\n",
    "        batches = [ queries[i:i+model[\"batch_size\"]] for i in range(0, len(queries), model[\"batch_size\"]) ] \n",
    "        intension = Intension(model=model[\"model_name\"])\n",
    "        for batch in tqdm(batches, desc=f'{model[\"model_name\"]:36}', total=len(batches)):\n",
    "            response = intension.chain.batch(batch)\n",
    "            for i, result in enumerate(response):\n",
    "                result[\"model\"] = model[\"model_name\"]\n",
    "                result[\"rationale\"] = result[\"text\"][\"rationale\"]\n",
    "                result[\"answer\"] = result[\"text\"][\"answer\"]\n",
    "                result.pop(\"text\")\n",
    "            results.extend(response)\n",
    "        json.dump(results, open(filename, \"w+\"))"
   ]
  }
 ],
 "metadata": {
  "kernelspec": {
   "display_name": "env",
   "language": "python",
   "name": "python3"
  },
  "language_info": {
   "codemirror_mode": {
    "name": "ipython",
    "version": 3
   },
   "file_extension": ".py",
   "mimetype": "text/x-python",
   "name": "python",
   "nbconvert_exporter": "python",
   "pygments_lexer": "ipython3",
   "version": "3.11.4"
  }
 },
 "nbformat": 4,
 "nbformat_minor": 2
}
